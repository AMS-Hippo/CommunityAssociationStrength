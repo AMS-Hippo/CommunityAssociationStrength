{
 "cells": [
  {
   "cell_type": "code",
   "execution_count": 1,
   "id": "b41c323f",
   "metadata": {},
   "outputs": [],
   "source": [
    "import igraph as ig\n",
    "import pandas as pd\n",
    "import numpy as np\n",
    "from sklearn.metrics import adjusted_mutual_info_score as AMI\n",
    "import partition_igraph\n",
    "from matplotlib import pyplot as plt\n",
    "from collections import Counter\n",
    "import random\n",
    "import pickle\n",
    "import os\n",
    "import seaborn as sns\n",
    "from sklearn.metrics import roc_auc_score as AUC\n",
    "from sklearn.metrics import roc_curve\n",
    "from scipy.sparse import csr_matrix\n",
    "import scipy.sparse as sparse \n",
    "import time\n",
    "from statistics import mode\n",
    "from abcd_graph import ABCDGraph, ABCDParams\n",
    "import csv\n",
    "import subprocess\n",
    "import sys\n",
    "sys.path.append('../')\n",
    "from CAS import *\n"
   ]
  },
  {
   "cell_type": "code",
   "execution_count": 2,
   "id": "ae3fdf80",
   "metadata": {},
   "outputs": [],
   "source": [
    "## this assumes community 0 are outliers and 'gt' exists in graph G\n",
    "## M: membership matrix\n",
    "## S: score matrix (C or Beta)\n",
    "def outliers_AUC(G, M, S):\n",
    "    y = [int(x>0) for x in G.vs['gt']]\n",
    "    x = np.array(S.max(axis=1).todense()).flatten()\n",
    "    ctr = Counter(np.array(M.sum(axis=1)).flatten())\n",
    "    print('With matrix M:\\noutliers:',ctr[0])\n",
    "    print('correct outliers:',sum((np.array(M.sum(axis=1)).flatten() == 0) & (np.array(G.vs['gt']) == 0)))\n",
    "    print('\\nWith scores:\\noutlier AUC:',AUC(y,x)) \n",
    "        "
   ]
  },
  {
   "cell_type": "markdown",
   "id": "9d2d8af6",
   "metadata": {},
   "source": [
    "## ABCD-oo graphs\n",
    "\n",
    "Main 2 files:\n",
    "\n",
    "```\n",
    "networkfile<xi>_<eta>_<rep>.txt : the edges, 1-based node ids, tab separated\n",
    "communityfile<xi>_<eta>_<rep>.txt : node <tab> list of communities in [], for example:\n",
    "1       [24]\n",
    "2       [3, 28]\n",
    "3       [10]\n",
    "```\n",
    "\n",
    "All files for one case:\n",
    "\n",
    "```\n",
    "communityfile0.5_1.5_10.txt\n",
    "communitysizesfile0.5_1.5_10.txt\n",
    "degreefile0.5_1.5_10.txt\n",
    "networkfile0.5_1.5_10.txt\n",
    "```\n",
    "\n",
    "All graph have 250 outlier nodes, mapped to community 0 below\n"
   ]
  },
  {
   "cell_type": "code",
   "execution_count": 3,
   "id": "a4806df6",
   "metadata": {},
   "outputs": [],
   "source": [
    "path = '/data/ABCDoo/'\n",
    "#path = '../Datasets/ABCDoo/'\n",
    "def readGraph(xi=0.5, eta=1.5, rep=1):\n",
    "    ## read edges, build graph\n",
    "    fn = path+'networkfile'+str(xi)+'_'+str(eta)+'_'+str(rep)+'.txt'\n",
    "    Edges = pd.read_csv(fn, sep='\\t', header=None)-1\n",
    "    G = ig.Graph.DataFrame(Edges, directed=False)\n",
    "    ## read communities\n",
    "    fn = path+'communityfile'+str(xi)+'_'+str(eta)+'_'+str(rep)+'.txt'\n",
    "    L = []\n",
    "    with open(fn, \"r\") as infile:\n",
    "        for line in infile:\n",
    "            x = line.split('\\t')\n",
    "            L.append([int(y)-1 for y in x[1].rstrip()[1:-1].split(',')]) ## map to 0-based\n",
    "    G.vs['comms'] = L\n",
    "    G.vs['n_comms'] = [len(x) for x in G.vs['comms']]\n",
    "    return G\n",
    "   "
   ]
  },
  {
   "cell_type": "code",
   "execution_count": 4,
   "id": "743141a7",
   "metadata": {},
   "outputs": [],
   "source": [
    "#oNMI = '/Users/francois/Book/GraphMiningNotebooks/oNMI/onmi'          ## overlapping NMI executable\n",
    "oNMI = '/work/home/fcthebe/Tools/oNMI/onmi'          ## overlapping NMI executable\n",
    "\n",
    "## input format: \n",
    "def compute_oNMI(First, Second):\n",
    "    fn1 = '__'+str(random.random())[2:]\n",
    "    with open(fn1,\"w\") as f:\n",
    "        wr = csv.writer(f, delimiter=\" \")\n",
    "        wr.writerows(First)\n",
    "    f.close()   \n",
    "\n",
    "    fn2 = '__'+str(random.random())[2:]\n",
    "    with open(fn2,\"w\") as f:\n",
    "        wr = csv.writer(f, delimiter=\" \")\n",
    "        wr.writerows(Second)\n",
    "    f.close()   \n",
    "    x = float(subprocess.check_output([oNMI,fn1,fn2]).decode(\"utf-8\").split()[1])\n",
    "    _ = os.system('rm '+fn1)\n",
    "    _ = os.system('rm '+fn2)\n",
    "    return x\n"
   ]
  },
  {
   "cell_type": "code",
   "execution_count": 5,
   "id": "a211b030",
   "metadata": {},
   "outputs": [],
   "source": [
    "def memberships2list(S):\n",
    "    L = []\n",
    "    for i in range(len(S.indptr)-1):\n",
    "        if S.indptr[i] == S.indptr[i+1]:\n",
    "            L.append([0]) ## no membership == outlier (community 0)\n",
    "        else:\n",
    "            L.append(list(S.indices[S.indptr[i]:S.indptr[i+1]]+1)) ## 1-based\n",
    "    return L\n",
    "\n",
    "## given list of node memberships, return list of communities\n",
    "def mems2comms(X):\n",
    "    nc = max(set([i for j in X for i in j]))+1  \n",
    "    n = len(X)\n",
    "    L = [[] for _ in range(nc)]\n",
    "    for i in range(n):\n",
    "        for j in X[i]:\n",
    "            L[j].append(i)\n",
    "    return L"
   ]
  },
  {
   "cell_type": "code",
   "execution_count": 6,
   "id": "147106c5",
   "metadata": {},
   "outputs": [],
   "source": [
    "from itertools import combinations\n",
    "def CPM(g, k=3):\n",
    "    cls = list(map(set, g.cliques(min=k,max=k)))\n",
    "    edgelist = []\n",
    "    for i in range(len(cls)):\n",
    "        edgelist.append((i,i))\n",
    "    for i,j in combinations(range(len(cls)),2):\n",
    "        if len(cls[i].intersection(cls[j])) >= (k-1):\n",
    "            edgelist.append((i,j))\n",
    "    cg = ig.Graph(edgelist, directed=False)\n",
    "    clusters = cg.connected_components()\n",
    "    L = []\n",
    "    for cluster in clusters:\n",
    "        members = set()\n",
    "        for i in cluster:\n",
    "            members.update(cls[i])\n",
    "        L.append(set(g.vs[members][\"name\"]))\n",
    "    return L\n"
   ]
  },
  {
   "cell_type": "code",
   "execution_count": 7,
   "id": "7b7d882f",
   "metadata": {},
   "outputs": [],
   "source": [
    "def EgoSplit(G, split='CC', algo='LP'):\n",
    "    g = G.copy()\n",
    "    ## implement ego-split approach with LP or ECG\n",
    "    g.vs['original'] = g.vs['name']\n",
    "    ## use the vertex names to avoid issues when vertices are re-mapped ...\n",
    "    names = g.vs['name']\n",
    "    ## step 1 - ego-net splits\n",
    "    ctr = 1\n",
    "    for nm in names:\n",
    "        if ctr%1000==0:\n",
    "            print(ctr)\n",
    "        ctr+=1\n",
    "        v = g.vs.find(nm).index\n",
    "        n = g.neighbors(v)\n",
    "        sg = g.subgraph(n)\n",
    "        if split == 'LP':\n",
    "            x = sg.community_label_propagation().membership\n",
    "        else:\n",
    "            x = sg.connected_components().membership\n",
    "        if np.min(x)==-1:\n",
    "            x = [i+1 for i in x]\n",
    "        for j in set(x):\n",
    "            g.add_vertex(name=nm+'.'+str(j),original=nm)\n",
    "\n",
    "        l = sg.vs['name']\n",
    "        for j in range(len(x)):\n",
    "            g.add_edge(nm+'.'+str(x[j]) , l[j])\n",
    "        g.delete_vertices(v)\n",
    "    ## step 2 -- cluster w.r.t. multiple personae\n",
    "    if algo=='LP':\n",
    "        cl = g.community_label_propagation()\n",
    "    else:\n",
    "        cl = g.community_ecg(ens_size=32)\n",
    "    C = [set(sg.vs['original']) for sg in cl.subgraphs()]\n",
    "    return C\n"
   ]
  },
  {
   "cell_type": "markdown",
   "id": "6ce5c03c",
   "metadata": {},
   "source": [
    "# Compare densities"
   ]
  },
  {
   "cell_type": "code",
   "execution_count": 268,
   "id": "d96bebeb",
   "metadata": {},
   "outputs": [
    {
     "data": {
      "text/plain": [
       "0.0820062"
      ]
     },
     "execution_count": 268,
     "metadata": {},
     "output_type": "execute_result"
    }
   ],
   "source": [
    "## LFRo\n",
    "LFRo = '/work/home/fcthebe/Tools/oLFR/benchmark' ## overlapping LFR executable\n",
    "mu = .35\n",
    "cmd = LFRo+' -N 10000 -k 20 -maxk 100 -t1 2.5 -minc 50 -maxc 1150 -t2 1.5 -on 5000 -om 3 -mu '+str(mu)  +' >  _temp'\n",
    "_ = os.system(cmd)\n",
    "g = ig.Graph.Read_Ncol('./network.dat',directed=False)\n",
    "g = g.simplify()## edges are repeated twice with LFRo\n",
    "fn = 'community.dat'\n",
    "L = []\n",
    "with open(fn, \"r\") as infile:\n",
    "    for line in infile:\n",
    "        x = line.split('\\t')[1]\n",
    "        L.append([int(i) for i in x.split(' ')[:-1]])\n",
    "v_dct = {j:i for i,j in enumerate(g.vs['name'])}\n",
    "for i in range(len(L)):\n",
    "    g.vs[v_dct[str(i+1)]]['comms'] = L[i]\n",
    "g.vs['leiden'] = g.community_leiden(objective_function='modularity').membership\n",
    "GT = mems2comms(g.vs['comms'])[1:]\n",
    "LD = mems2comms([[x] for x in g.vs['leiden']])\n",
    "compute_oNMI(GT,LD)\n"
   ]
  },
  {
   "cell_type": "code",
   "execution_count": 269,
   "id": "31bc8fb0",
   "metadata": {},
   "outputs": [
    {
     "data": {
      "text/plain": [
       "102059"
      ]
     },
     "execution_count": 269,
     "metadata": {},
     "output_type": "execute_result"
    }
   ],
   "source": [
    "g.ecount()"
   ]
  },
  {
   "cell_type": "code",
   "execution_count": 271,
   "id": "f1ebeb4a",
   "metadata": {},
   "outputs": [
    {
     "data": {
      "text/plain": [
       "0.0020413841384138414"
      ]
     },
     "execution_count": 271,
     "metadata": {},
     "output_type": "execute_result"
    }
   ],
   "source": [
    "proba = g.ecount()*2/(g.vcount()*(g.vcount()-1))\n",
    "proba"
   ]
  },
  {
   "cell_type": "code",
   "execution_count": 272,
   "id": "077d78ee",
   "metadata": {},
   "outputs": [
    {
     "name": "stdout",
     "output_type": "stream",
     "text": [
      "0.4283382682777887 8.370715558704045 4.9232533295230105\n"
     ]
    }
   ],
   "source": [
    "L = []\n",
    "for i in range(100000):\n",
    "    x = np.random.choice(10000,2,replace=False)\n",
    "    L.append([g.are_adjacent(x[0],x[1]),len(set(g.vs[x[0]]['comms']).intersection(set(g.vs[x[1]]['comms'])))])\n",
    "_df = pd.DataFrame(L,columns=['edge','inter'])\n",
    "print( sum(_df[_df.inter==0].edge)/len(_df[_df.inter==0].edge)/proba,\n",
    "       sum(_df[_df.inter==1].edge)/len(_df[_df.inter==1].edge)/proba,\n",
    "       sum(_df[_df.inter>1].edge)/len(_df[_df.inter>1].edge)/proba)\n"
   ]
  },
  {
   "cell_type": "code",
   "execution_count": 273,
   "id": "6272edbc",
   "metadata": {},
   "outputs": [
    {
     "data": {
      "text/plain": [
       "Counter({0: 91491, 1: 8310, 2: 196, 3: 3})"
      ]
     },
     "execution_count": 273,
     "metadata": {},
     "output_type": "execute_result"
    }
   ],
   "source": [
    "Counter(_df.inter)\n"
   ]
  },
  {
   "cell_type": "code",
   "execution_count": null,
   "id": "b5218937",
   "metadata": {},
   "outputs": [],
   "source": [
    "### ABCDoo"
   ]
  },
  {
   "cell_type": "code",
   "execution_count": 275,
   "id": "8bc8e37b",
   "metadata": {},
   "outputs": [
    {
     "data": {
      "text/plain": [
       "0.002045104510451045"
      ]
     },
     "execution_count": 275,
     "metadata": {},
     "output_type": "execute_result"
    }
   ],
   "source": [
    "G = readGraph(xi=0.35, eta=1.5, rep=5)\n",
    "#G.vs['name'] = [str(i) for i in np.arange(G.vcount())]\n",
    "GT = mems2comms(G.vs['comms'])[1:]  ## ignore \"outlier community\"\n",
    "G.ecount()\n",
    "proba = G.ecount()*2/(G.vcount()*(G.vcount()-1))\n",
    "proba"
   ]
  },
  {
   "cell_type": "code",
   "execution_count": 277,
   "id": "009884f3",
   "metadata": {
    "scrolled": false
   },
   "outputs": [
    {
     "name": "stdout",
     "output_type": "stream",
     "text": [
      "0.37966483319104294 12.353429238590737 7.327146854910125\n"
     ]
    }
   ],
   "source": [
    "L = []\n",
    "for i in range(1000000):\n",
    "    x = np.random.choice(10000,2,replace=False)\n",
    "    L.append([G.are_adjacent(x[0],x[1]),len(set(G.vs[x[0]]['comms']).intersection(set(G.vs[x[1]]['comms'])))])\n",
    "_df = pd.DataFrame(L,columns=['edge','inter'])\n",
    "print( sum(_df[_df.inter==0].edge)/len(_df[_df.inter==0].edge)/proba,\n",
    "       sum(_df[_df.inter==1].edge)/len(_df[_df.inter==1].edge)/proba,\n",
    "       sum(_df[_df.inter>1].edge)/len(_df[_df.inter>1].edge)/proba)\n"
   ]
  }
 ],
 "metadata": {
  "kernelspec": {
   "display_name": "complexnetworks",
   "language": "python",
   "name": "complexnetworks"
  },
  "language_info": {
   "codemirror_mode": {
    "name": "ipython",
    "version": 3
   },
   "file_extension": ".py",
   "mimetype": "text/x-python",
   "name": "python",
   "nbconvert_exporter": "python",
   "pygments_lexer": "ipython3",
   "version": "3.11.9"
  }
 },
 "nbformat": 4,
 "nbformat_minor": 5
}
