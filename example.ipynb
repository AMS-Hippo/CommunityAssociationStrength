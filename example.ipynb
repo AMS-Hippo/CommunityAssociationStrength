{
 "cells": [
  {
   "cell_type": "markdown",
   "id": "34ac00db",
   "metadata": {},
   "source": [
    "## Computing CAS scores\n",
    "\n",
    "Let $M$ be the membership matrix of dimension $n \\times k$ where $n$ is the number of nodes and $k$ the number of communities such that $M_{i,j}=1$ iff node $i$ is in community $j$, else 0.\n",
    "\n",
    "Recall that each vertex can have multiple (or no) membership. A partition yields a single membership per node (row sums are all 1).\n",
    "\n",
    "#### IEF and Beta\n",
    "\n",
    "$IEF_A(v) = \\frac{deg_A(v)}{deg(v)}$\n",
    "\n",
    "$Beta_A(v) =  IEF_A(v) - p(A)$\n",
    "\n",
    "where:\n",
    "\n",
    "* $p(A) = vol(A)/vol(V)$\n",
    "* $deg_A(v)$: number of neighbours $w$ of node $v$ with $w \\in A$\n",
    "* $deg(v)$: is the usual degree\n",
    "* $vol(A)$: sum of degree of all nodes $w \\in A$\n",
    "* $vol(V)$: sum of degree of all nodes, i.e. twice the number of edges in the graph\n",
    "\n",
    "Computing all $IEF_A(v)$ is a special case of the following with $\\alpha=1$:\n",
    "\n",
    "$D^{-1} \\left((1-\\alpha)A^2 + \\alpha A \\right) M$\n",
    "\n",
    "where $D$ is the diagonal matrix of degrees, $A$ is the adjacency and $M$ if the community membership matrix.\n",
    "\n",
    "\n",
    "#### C\n",
    "\n",
    "$C_A(v) = \\frac{Beta_A(v) * \\sqrt{deg(v)}}{\\sqrt{p(A)(1-p(A))}}$\n",
    "\n",
    "This measures the number of standard deviations away from the expected number of edges from node $v$ to community $A$, assuming a binomial distribution.\n",
    "\n",
    "#### P-values\n",
    "\n",
    "This scores amounts to one minus the p-value for the number of edge into some community assuming a binomial distribution, that is:\n",
    "\n",
    "$P_A(v) = Pr(bin(n=deg(v), p=p(A)) \\le deg_A(v)$\n",
    "\n",
    "#### Membership matrix M\n",
    "\n",
    "In practice, we drop negative values to keep all matrices above sparse.\n",
    "\n",
    "Given a score matrix S (one of the above), we can replace the membership matrix with a new matrix $M$ such that $M_{i,j} = 1$ iff $S_j(i) \\ge s^*$ else 0.\n",
    "\n",
    "Given this updated matrix $M$, we can re-compute the score matrix. \n",
    "This process can be repeated several times.\n"
   ]
  },
  {
   "cell_type": "code",
   "execution_count": 1,
   "id": "4a67825b",
   "metadata": {},
   "outputs": [],
   "source": [
    "import pickle\n",
    "import igraph as ig\n",
    "from collections import Counter\n",
    "from matplotlib import pyplot as plt\n",
    "from abcd_graph import ABCDGraph, ABCDParams\n",
    "from abcd_graph.utils import seed\n",
    "from CAS import *"
   ]
  },
  {
   "cell_type": "code",
   "execution_count": 2,
   "id": "01abcfec",
   "metadata": {},
   "outputs": [],
   "source": [
    "seed(123)\n",
    "params = ABCDParams(\n",
    "    vcount=1000, \n",
    "    gamma=2.5,\n",
    "    min_degree=5,\n",
    "    max_degree=30,\n",
    "    beta=1.5,\n",
    "    min_community_size=30,\n",
    "    max_community_size=200,\n",
    "    xi=0.3,\n",
    "    num_outliers=50,\n",
    ")\n",
    "G = ABCDGraph(params)\n",
    "G.build()\n",
    "g = G.exporter.to_igraph()\n",
    "## outliers have community == -1, map to 0-based\n",
    "g.vs['ground_truth_community'] = np.array(g.vs['ground_truth_community']) + 1\n"
   ]
  },
  {
   "cell_type": "code",
   "execution_count": 3,
   "id": "558c734a",
   "metadata": {},
   "outputs": [
    {
     "data": {
      "text/plain": [
       "Counter({False: 950, True: 50})"
      ]
     },
     "execution_count": 3,
     "metadata": {},
     "output_type": "execute_result"
    }
   ],
   "source": [
    "### Get initial partition and adjacency\n",
    "L = g.community_leiden(objective_function='modularity').membership\n",
    "M = partition2sparse(L)\n",
    "A = g.get_adjacency_sparse()\n",
    "\n",
    "### Compute Beta and C scores; also get degrees w.r.t. initial partition\n",
    "IEF, Beta, C, Pv, DegPart = CAS(A, M, alpha=1)\n",
    "\n",
    "## Number of Outliers \n",
    "Counter(np.array(g.vs['ground_truth_community'])==0)"
   ]
  },
  {
   "cell_type": "code",
   "execution_count": 4,
   "id": "d6140f86",
   "metadata": {},
   "outputs": [
    {
     "name": "stdout",
     "output_type": "stream",
     "text": [
      "Counter({1: 950, 0: 50})\n",
      "outliers found: 50\n",
      "ground-truth outliers found: 46\n"
     ]
    }
   ],
   "source": [
    "### re-compute membership matrix given score and threshold\n",
    "M = score_to_memberships(IEF, DegPart, threshold=.5, min_deg_in=2)\n",
    "### number of memberships\n",
    "print(Counter(M.sum(axis=1).flatten().tolist()[0]))\n",
    "### compare to GT outliers\n",
    "outliers = np.where(np.array(M.sum(axis=1).flatten().tolist()[0])==0)[0]\n",
    "print('outliers found:',len(outliers))\n",
    "print('ground-truth outliers found:',sum([g.vs[i]['ground_truth_community']==0 for i in outliers]))\n"
   ]
  },
  {
   "cell_type": "code",
   "execution_count": 5,
   "id": "f0102281",
   "metadata": {},
   "outputs": [
    {
     "name": "stdout",
     "output_type": "stream",
     "text": [
      "Counter({1: 949, 0: 51})\n",
      "outliers found: 51\n",
      "ground-truth outliers found: 46\n"
     ]
    }
   ],
   "source": [
    "### re-compute membership matrix given score and threshold\n",
    "M = score_to_memberships(Beta, DegPart, threshold=.4, min_deg_in=2)\n",
    "### number of memberships\n",
    "print(Counter(M.sum(axis=1).flatten().tolist()[0]))\n",
    "### compare to GT outliers\n",
    "outliers = np.where(np.array(M.sum(axis=1).flatten().tolist()[0])==0)[0]\n",
    "print('outliers found:',len(outliers))\n",
    "print('ground-truth outliers found:',sum([g.vs[i]['ground_truth_community']==0 for i in outliers]))\n"
   ]
  },
  {
   "cell_type": "code",
   "execution_count": 6,
   "id": "31507340",
   "metadata": {},
   "outputs": [
    {
     "name": "stdout",
     "output_type": "stream",
     "text": [
      "Counter({1: 934, 0: 46, 2: 20})\n",
      "outliers found: 46\n",
      "ground-truth outliers found: 31\n"
     ]
    }
   ],
   "source": [
    "### re-compute membership matrix given score and threshold\n",
    "M = score_to_memberships(C, DegPart, threshold=2.5, min_deg_in=2)\n",
    "### number of memberships\n",
    "print(Counter(M.sum(axis=1).flatten().tolist()[0]))\n",
    "### compare to GT outliers\n",
    "outliers = np.where(np.array(M.sum(axis=1).flatten().tolist()[0])==0)[0]\n",
    "print('outliers found:',len(outliers))\n",
    "print('ground-truth outliers found:',sum([g.vs[i]['ground_truth_community']==0 for i in outliers]))\n"
   ]
  },
  {
   "cell_type": "code",
   "execution_count": 7,
   "id": "0fd2cfe9",
   "metadata": {},
   "outputs": [
    {
     "name": "stdout",
     "output_type": "stream",
     "text": [
      "Counter({1: 938, 0: 46, 2: 16})\n",
      "outliers found: 46\n",
      "ground-truth outliers found: 30\n"
     ]
    }
   ],
   "source": [
    "### re-compute membership matrix given score and threshold\n",
    "M = score_to_memberships(Pv, DegPart, threshold=.95, min_deg_in=2)\n",
    "### number of memberships\n",
    "print(Counter(M.sum(axis=1).flatten().tolist()[0]))\n",
    "### compare to GT outliers\n",
    "outliers = np.where(np.array(M.sum(axis=1).flatten().tolist()[0])==0)[0]\n",
    "print('outliers found:',len(outliers))\n",
    "print('ground-truth outliers found:',sum([g.vs[i]['ground_truth_community']==0 for i in outliers]))\n"
   ]
  },
  {
   "cell_type": "code",
   "execution_count": 8,
   "id": "0c22aac7",
   "metadata": {},
   "outputs": [
    {
     "name": "stdout",
     "output_type": "stream",
     "text": [
      "Counter({1: 934, 0: 46, 2: 20})\n",
      "Counter({1: 930, 0: 55, 2: 15})\n",
      "Counter({1: 932, 0: 48, 2: 20})\n",
      "outliers found: 48\n",
      "ground-truth outliers found: 33\n"
     ]
    }
   ],
   "source": [
    "### loop - update C matrix\n",
    "M = score_to_memberships(C, DegPart, threshold=2.5, min_deg_in=2)\n",
    "print(Counter(M.sum(axis=1).flatten().tolist()[0]))\n",
    "_I, _Beta, C, _S, _Deg = CAS(A, M, alpha=1)\n",
    "M = score_to_memberships(C, DegPart, threshold=2.5, min_deg_in=2)\n",
    "print(Counter(M.sum(axis=1).flatten().tolist()[0]))\n",
    "_I, _Beta, C, _S, _Deg = CAS(A, M, alpha=1)\n",
    "M = score_to_memberships(C, DegPart, threshold=2.5, min_deg_in=2)\n",
    "print(Counter(M.sum(axis=1).flatten().tolist()[0]))\n",
    "### compare to GT outliers\n",
    "outliers = np.where(np.array(M.sum(axis=1).flatten().tolist()[0])==0)[0]\n",
    "print('outliers found:',len(outliers))\n",
    "print('ground-truth outliers found:',sum([g.vs[i]['ground_truth_community']==0 for i in outliers]))\n"
   ]
  }
 ],
 "metadata": {
  "kernelspec": {
   "display_name": "complexnetworks",
   "language": "python",
   "name": "complexnetworks"
  },
  "language_info": {
   "codemirror_mode": {
    "name": "ipython",
    "version": 3
   },
   "file_extension": ".py",
   "mimetype": "text/x-python",
   "name": "python",
   "nbconvert_exporter": "python",
   "pygments_lexer": "ipython3",
   "version": "3.11.9"
  }
 },
 "nbformat": 4,
 "nbformat_minor": 5
}
