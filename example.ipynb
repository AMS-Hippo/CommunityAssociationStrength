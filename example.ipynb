{
 "cells": [
  {
   "cell_type": "code",
   "execution_count": 1,
   "id": "4a67825b",
   "metadata": {},
   "outputs": [],
   "source": [
    "import pickle\n",
    "import igraph as ig\n",
    "from collections import Counter \n",
    "from CAS import *"
   ]
  },
  {
   "cell_type": "code",
   "execution_count": 2,
   "id": "b47141c9",
   "metadata": {},
   "outputs": [],
   "source": [
    "with open('abcdo.pkl','rb') as fp:\n",
    "    g = pickle.load(fp)"
   ]
  },
  {
   "cell_type": "code",
   "execution_count": 3,
   "id": "558c734a",
   "metadata": {},
   "outputs": [],
   "source": [
    "### Get initial partition and adjacency\n",
    "L = g.community_leiden(objective_function='modularity').membership\n",
    "M = partition2sparse(L)\n",
    "A = g.get_adjacency_sparse()\n",
    "\n",
    "### Compute Beta and C scores; also get degrees w.r.t. initial partition\n",
    "IEF, Beta, C, Pv, DegPart = CAS(A, M, alpha=1)\n"
   ]
  },
  {
   "cell_type": "code",
   "execution_count": 4,
   "id": "b6abf8e0",
   "metadata": {},
   "outputs": [
    {
     "data": {
      "text/plain": [
       "Counter({False: 950, True: 50})"
      ]
     },
     "execution_count": 4,
     "metadata": {},
     "output_type": "execute_result"
    }
   ],
   "source": [
    "## Outliers - those have 'gt' equal to 0\n",
    "Counter(np.array(g.vs['gt'])==0)"
   ]
  },
  {
   "cell_type": "code",
   "execution_count": 5,
   "id": "d6140f86",
   "metadata": {},
   "outputs": [
    {
     "name": "stdout",
     "output_type": "stream",
     "text": [
      "Counter({1: 951, 0: 49})\n",
      "outliers found: 49\n",
      "ground-truth outliers found: 49\n"
     ]
    }
   ],
   "source": [
    "### re-compute membership matrix given score and threshold\n",
    "M = score_to_memberships(IEF, DegPart, threshold=.55, min_deg_in=2)\n",
    "### number of memberships\n",
    "print(Counter(M.sum(axis=1).flatten().tolist()[0]))\n",
    "### compare to GT outliers\n",
    "outliers = np.where(np.array(M.sum(axis=1).flatten().tolist()[0])==0)[0]\n",
    "print('outliers found:',len(outliers))\n",
    "print('ground-truth outliers found:',sum([g.vs[i]['gt']==0 for i in outliers]))\n"
   ]
  },
  {
   "cell_type": "code",
   "execution_count": 6,
   "id": "f0102281",
   "metadata": {},
   "outputs": [
    {
     "name": "stdout",
     "output_type": "stream",
     "text": [
      "Counter({1: 951, 0: 49})\n",
      "outliers found: 49\n",
      "ground-truth outliers found: 49\n"
     ]
    }
   ],
   "source": [
    "### re-compute membership matrix given score and threshold\n",
    "M = score_to_memberships(Beta, DegPart, threshold=.4, min_deg_in=2)\n",
    "### number of memberships\n",
    "print(Counter(M.sum(axis=1).flatten().tolist()[0]))\n",
    "### compare to GT outliers\n",
    "outliers = np.where(np.array(M.sum(axis=1).flatten().tolist()[0])==0)[0]\n",
    "print('outliers found:',len(outliers))\n",
    "print('ground-truth outliers found:',sum([g.vs[i]['gt']==0 for i in outliers]))\n"
   ]
  },
  {
   "cell_type": "code",
   "execution_count": 7,
   "id": "31507340",
   "metadata": {},
   "outputs": [
    {
     "name": "stdout",
     "output_type": "stream",
     "text": [
      "Counter({1: 933, 0: 63, 2: 4})\n",
      "outliers found: 63\n",
      "ground-truth outliers found: 42\n"
     ]
    }
   ],
   "source": [
    "### re-compute membership matrix given score and threshold\n",
    "M = score_to_memberships(C, DegPart, threshold=3.5, min_deg_in=2)\n",
    "### number of memberships\n",
    "print(Counter(M.sum(axis=1).flatten().tolist()[0]))\n",
    "### compare to GT outliers\n",
    "outliers = np.where(np.array(M.sum(axis=1).flatten().tolist()[0])==0)[0]\n",
    "print('outliers found:',len(outliers))\n",
    "print('ground-truth outliers found:',sum([g.vs[i]['gt']==0 for i in outliers]))\n"
   ]
  },
  {
   "cell_type": "code",
   "execution_count": 8,
   "id": "0fd2cfe9",
   "metadata": {},
   "outputs": [
    {
     "name": "stdout",
     "output_type": "stream",
     "text": [
      "Counter({1: 953, 0: 44, 2: 3})\n",
      "outliers found: 44\n",
      "ground-truth outliers found: 44\n"
     ]
    }
   ],
   "source": [
    "### re-compute membership matrix given score and threshold\n",
    "M = score_to_memberships(Pv, DegPart, threshold=.985, min_deg_in=2)\n",
    "### number of memberships\n",
    "print(Counter(M.sum(axis=1).flatten().tolist()[0]))\n",
    "### compare to GT outliers\n",
    "outliers = np.where(np.array(M.sum(axis=1).flatten().tolist()[0])==0)[0]\n",
    "print('outliers found:',len(outliers))\n",
    "print('ground-truth outliers found:',sum([g.vs[i]['gt']==0 for i in outliers]))\n"
   ]
  },
  {
   "cell_type": "code",
   "execution_count": 9,
   "id": "0c22aac7",
   "metadata": {},
   "outputs": [
    {
     "name": "stdout",
     "output_type": "stream",
     "text": [
      "Counter({1: 950, 0: 36, 2: 14})\n",
      "Counter({1: 954, 0: 36, 2: 10})\n",
      "Counter({1: 950, 0: 38, 2: 12})\n",
      "outliers found: 38\n",
      "ground-truth outliers found: 38\n"
     ]
    }
   ],
   "source": [
    "### loop - update C matrix\n",
    "M = score_to_memberships(C, DegPart, threshold=3, min_deg_in=2)\n",
    "print(Counter(M.sum(axis=1).flatten().tolist()[0]))\n",
    "_I, _Beta, C, _S, _Deg = CAS(A, M, alpha=1)\n",
    "M = score_to_memberships(C, DegPart, threshold=3, min_deg_in=2)\n",
    "print(Counter(M.sum(axis=1).flatten().tolist()[0]))\n",
    "_I, _Beta, C, _S, _Deg = CAS(A, M, alpha=1)\n",
    "M = score_to_memberships(C, DegPart, threshold=3, min_deg_in=2)\n",
    "print(Counter(M.sum(axis=1).flatten().tolist()[0]))\n",
    "### compare to GT outliers\n",
    "outliers = np.where(np.array(M.sum(axis=1).flatten().tolist()[0])==0)[0]\n",
    "print('outliers found:',len(outliers))\n",
    "print('ground-truth outliers found:',sum([g.vs[i]['gt']==0 for i in outliers]))\n"
   ]
  }
 ],
 "metadata": {
  "kernelspec": {
   "display_name": "complexnetworks",
   "language": "python",
   "name": "complexnetworks"
  },
  "language_info": {
   "codemirror_mode": {
    "name": "ipython",
    "version": 3
   },
   "file_extension": ".py",
   "mimetype": "text/x-python",
   "name": "python",
   "nbconvert_exporter": "python",
   "pygments_lexer": "ipython3",
   "version": "3.11.9"
  }
 },
 "nbformat": 4,
 "nbformat_minor": 5
}
